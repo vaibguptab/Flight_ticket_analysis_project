{
 "cells": [
  {
   "cell_type": "code",
   "execution_count": 57,
   "id": "1cdc4fb9",
   "metadata": {},
   "outputs": [],
   "source": [
    "from selenium import webdriver\n",
    "from selenium.webdriver.common.by import By\n",
    "from selenium.webdriver.common.keys import Keys"
   ]
  },
  {
   "cell_type": "code",
   "execution_count": 58,
   "id": "bece8c91",
   "metadata": {},
   "outputs": [],
   "source": [
    "import pandas as pd\n",
    "import time\n",
    "import datetime\n",
    "import smtplib\n",
    "from email.mime.multipart import MIMEMultipart"
   ]
  },
  {
   "cell_type": "code",
   "execution_count": 66,
   "id": "043979e9",
   "metadata": {},
   "outputs": [],
   "source": [
    "browser = webdriver.Edge()"
   ]
  },
  {
   "cell_type": "code",
   "execution_count": 33,
   "id": "d0991735",
   "metadata": {},
   "outputs": [],
   "source": [
    "return_ticket = \"//label[@id='flight-type-roundtrip-label-hp-flight']\"\n",
    "one_way_ticket = \"//label[@id='flight-type-one-way-label-hp-flight']\"\n",
    "multi_ticket = \"//label[@id='flight-type-multi-dest-label-hp-flight']\""
   ]
  },
  {
   "cell_type": "code",
   "execution_count": 34,
   "id": "95a4d8eb",
   "metadata": {},
   "outputs": [],
   "source": [
    "def ticket_chooser(ticket):\n",
    "\n",
    "    try:\n",
    "        ticket_type = browser.find_element_by_xpath(ticket)\n",
    "        ticket_type.click()\n",
    "    except Exception as e:\n",
    "        pass"
   ]
  },
  {
   "cell_type": "code",
   "execution_count": 50,
   "id": "357c4ef4",
   "metadata": {},
   "outputs": [],
   "source": [
    "def dep_country_chooser(dep_country):\n",
    "    fly_from = browser.find_element(By.XPATH , value='//*[@id=\"origin_select-menu\"]/div/div/div[1]/button')\n",
    "    time.sleep(1)\n",
    "    fly_from.click()\n",
    "    time.sleep(1.5)\n",
    "    fly_from.send_keys('  ' + dep_country)\n",
    "    time.sleep(1.5)\n",
    "    first_item = browser.find_element(By.XPATH , value=\"//a[@id='aria-option-0']\")\n",
    "    time.sleep(1.5)\n",
    "    first_item.click()"
   ]
  },
  {
   "cell_type": "code",
   "execution_count": 39,
   "id": "796de6bd",
   "metadata": {},
   "outputs": [],
   "source": [
    "def arrival_country_chooser(arrival_country):\n",
    "    fly_to = browser.find_element(By.XPATH , value='//*[@id=\"destination_select-menu\"]/div/div/div[1]/button')\n",
    "    time.sleep(1)\n",
    "    fly_to.clear()\n",
    "    time.sleep(1.5)\n",
    "    fly_to.send_keys('  ' + arrival_country)\n",
    "    time.sleep(1.5)\n",
    "    first_item = browser.find_element(By.XPATH , value=\"//a[@id='aria-option-0']\")\n",
    "    time.sleep(1.5)\n",
    "    first_item.click()"
   ]
  },
  {
   "cell_type": "code",
   "execution_count": 40,
   "id": "2c83db78",
   "metadata": {},
   "outputs": [],
   "source": [
    "def dep_date_chooser(month, day, year):\n",
    "\n",
    "    dep_date_button = browser.find_element_by_xpath(\"//input[@id='flight-departing-hp-flight']\")\n",
    "    dep_date_button.clear()\n",
    "    dep_date_button.send_keys(month + '/' + day + '/' + year)"
   ]
  },
  {
   "cell_type": "code",
   "execution_count": 41,
   "id": "b4bee9bd",
   "metadata": {},
   "outputs": [],
   "source": [
    "def return_date_chooser(month, day, year):\n",
    "    return_date_button = browser.find_element_by_xpath(\"//input[@id='flight-returning-hp-flight']\")\n",
    "\n",
    "    for i in range(11):\n",
    "        return_date_button.send_keys(Keys.BACKSPACE)\n",
    "    return_date_button.send_keys(month + '/' + day + '/' + year)"
   ]
  },
  {
   "cell_type": "code",
   "execution_count": 42,
   "id": "6d7596e3",
   "metadata": {},
   "outputs": [],
   "source": [
    "def search():\n",
    "    search = browser.find_element_by_xpath(\"//button[@class='btn-primary btn-action gcw-submit']\")\n",
    "    search.click()\n",
    "    time.sleep(15)\n",
    "    print('Results ready!')"
   ]
  },
  {
   "cell_type": "code",
   "execution_count": 43,
   "id": "ec637ef5",
   "metadata": {},
   "outputs": [],
   "source": [
    "df = pd.DataFrame()\n",
    "def compile_data():\n",
    "    global df\n",
    "    global dep_times_list\n",
    "    global arr_times_list\n",
    "    global airlines_list\n",
    "    global price_list\n",
    "    global durations_list\n",
    "    global stops_list\n",
    "    global layovers_list\n",
    "\n",
    "\n",
    "    #departure times\n",
    "    dep_times = browser.find_elements_by_xpath(\"//span[@data-test-id='departure-time']\")\n",
    "    dep_times_list = [value.text for value in dep_times]\n",
    "\n",
    "\n",
    "    #arrival times\n",
    "    arr_times = browser.find_elements_by_xpath(\"//span[@data-test-id='arrival-time']\")\n",
    "    arr_times_list = [value.text for value in arr_times]\n",
    "\n",
    "\n",
    "    #airline name\n",
    "    airlines = browser.find_elements_by_xpath(\"//span[@data-test-id='airline-name']\")\n",
    "    airlines_list = [value.text for value in airlines]\n",
    "\n",
    "\n",
    "    #prices\n",
    "    prices = browser.find_elements_by_xpath(\"//span[@data-test-id='listing-price-dollars']\")\n",
    "    price_list = [value.text.split('$')[1] for value in prices]\n",
    "\n",
    "\n",
    "    #durations\n",
    "    durations = browser.find_elements_by_xpath(\"//span[@data-test-id='duration']\")\n",
    "    durations_list = [value.text for value in durations]\n",
    "\n",
    "\n",
    "    #stops\n",
    "    stops = browser.find_elements_by_xpath(\"//span[@class='number-stops']\")\n",
    "    stops_list = [value.text for value in stops]\n",
    "\n",
    "\n",
    "    #layovers\n",
    "    layovers = browser.find_elements_by_xpath(\"//span[@data-test-id='layover-airport-stops']\")\n",
    "    layovers_list = [value.text for value in layovers]\n",
    "\n",
    "\n",
    "    now = datetime.datetime.now()\n",
    "    current_date = (str(now.year) + '-' + str(now.month) + '-' + str(now.day))\n",
    "    current_time = (str(now.hour) + ':' + str(now.minute))\n",
    "    current_price = 'price' + '(' + current_date + '---' + current_time + ')'\n",
    "    for i in range(len(dep_times_list)):\n",
    "        try:\n",
    "            df.loc[i, 'departure_time'] = dep_times_list[i]\n",
    "        except Exception as e:\n",
    "            pass\n",
    "        try:\n",
    "            df.loc[i, 'arrival_time'] = arr_times_list[i]\n",
    "        except Exception as e:\n",
    "            pass\n",
    "        try:\n",
    "            df.loc[i, 'airline'] = airlines_list[i]\n",
    "        except Exception as e:\n",
    "            pass\n",
    "        try:\n",
    "            df.loc[i, 'duration'] = durations_list[i]\n",
    "        except Exception as e:\n",
    "            pass\n",
    "        try:\n",
    "            df.loc[i, 'stops'] = stops_list[i]\n",
    "        except Exception as e:\n",
    "            pass\n",
    "        try:\n",
    "            df.loc[i, 'layovers'] = layovers_list[i]\n",
    "        except Exception as e:\n",
    "            pass\n",
    "        try:\n",
    "            df.loc[i, str(current_price)] = price_list[i]\n",
    "        except Exception as e:\n",
    "            pass\n",
    "\n",
    "    print('Excel Sheet Created!')"
   ]
  },
  {
   "cell_type": "code",
   "execution_count": 44,
   "id": "d28ff2b5",
   "metadata": {},
   "outputs": [],
   "source": [
    "now = datetime.datetime.now()\n",
    "current_date = (str(now.year) + '-' + str(now.month) + '-' + str(now.day))\n",
    "current_time = (str(now.hour) + ':' + str(now.minute))\n",
    "current_price = 'price' + '(' + current_date + '---' + current_time + ')'"
   ]
  },
  {
   "cell_type": "code",
   "execution_count": 45,
   "id": "21bfd14a",
   "metadata": {},
   "outputs": [],
   "source": [
    "#email credentials\n",
    "username = 'myemail@hotmail.com'\n",
    "password = 'XXXXXXXXXXX'"
   ]
  },
  {
   "cell_type": "code",
   "execution_count": 46,
   "id": "72fa1eee",
   "metadata": {},
   "outputs": [],
   "source": [
    "def connect_mail(username, password):\n",
    "    global server\n",
    "    server = smtplib.SMTP('smtp.outlook.com', 587)\n",
    "    server.ehlo()\n",
    "    server.starttls()\n",
    "    server.login(username, password)"
   ]
  },
  {
   "cell_type": "code",
   "execution_count": 47,
   "id": "7f422c74",
   "metadata": {},
   "outputs": [],
   "source": [
    "#Create message template for email\n",
    "def create_msg():\n",
    "    global msg\n",
    "    msg = '\\nCurrent Cheapest flight:\\n\\nDeparture time: {}\\nArrival time: {}\\nAirline: {}\\nFlight duration: {}\\nNo. of stops: {}\\nPrice: {}\\n'.format(cheapest_dep_time,\n",
    "                       cheapest_arrival_time,\n",
    "                       cheapest_airline,\n",
    "                       cheapest_duration,\n",
    "                       cheapest_stops,\n",
    "                       cheapest_price)"
   ]
  },
  {
   "cell_type": "code",
   "execution_count": 48,
   "id": "be4b099a",
   "metadata": {},
   "outputs": [],
   "source": [
    "def send_email(msg):\n",
    "    global message\n",
    "    message = MIMEMultipart()\n",
    "    message['Subject'] = 'Current Best flight'\n",
    "    message['From'] = 'gupta.vaibhav2004golu@gmail.com'\n",
    "    message['to'] = 'gupta.vaibhav0501@gmail.com'\n",
    "\n",
    "    server.sendmail('gupta.vaibhav2004golu@gmail.com', 'gupta.vaibhav0501@gmail.com', msg)"
   ]
  },
  {
   "cell_type": "code",
   "execution_count": 55,
   "id": "38a7b773",
   "metadata": {},
   "outputs": [
    {
     "ename": "NoSuchElementException",
     "evalue": "Message: no such element: Unable to locate element: {\"method\":\"xpath\",\"selector\":\"/html/body/div[1]/div[1]/div/div[2]/div[2]/div[1]/div[1]/div/form/div/div/div[1]/div/div[1]/div/div/div/div/div/div[1]/button\"}\n  (Session info: MicrosoftEdge=116.0.1938.43); For documentation on this error, please visit: https://www.selenium.dev/documentation/webdriver/troubleshooting/errors#no-such-element-exception\nStacktrace:\n\tGetHandleVerifier [0x00007FF73A57B262+61986]\n\tMicrosoft::Applications::Events::EventProperty::~EventProperty [0x00007FF73A50C8D2+737666]\n\t(No symbol) [0x00007FF73A2EB86E]\n\t(No symbol) [0x00007FF73A333216]\n\t(No symbol) [0x00007FF73A333327]\n\t(No symbol) [0x00007FF73A36FBF7]\n\t(No symbol) [0x00007FF73A35386F]\n\t(No symbol) [0x00007FF73A326F61]\n\t(No symbol) [0x00007FF73A36CD41]\n\t(No symbol) [0x00007FF73A353603]\n\t(No symbol) [0x00007FF73A325DEA]\n\t(No symbol) [0x00007FF73A3250CB]\n\t(No symbol) [0x00007FF73A326574]\n\tMicrosoft::Applications::Events::ILogManager::DispatchEventBroadcast [0x00007FF73A748719+1225449]\n\t(No symbol) [0x00007FF73A3A4804]\n\tMicrosoft::Applications::Events::EventProperty::~EventProperty [0x00007FF73A460141+31217]\n\tMicrosoft::Applications::Events::EventProperty::~EventProperty [0x00007FF73A458D19+1481]\n\tMicrosoft::Applications::Events::ILogManager::DispatchEventBroadcast [0x00007FF73A7472F4+1220292]\n\tMicrosoft::Applications::Events::ILogConfiguration::operator* [0x00007FF73A515898+21048]\n\tMicrosoft::Applications::Events::ILogConfiguration::operator* [0x00007FF73A511864+4612]\n\tMicrosoft::Applications::Events::ILogConfiguration::operator* [0x00007FF73A511996+4918]\n\tMicrosoft::Applications::Events::EventProperty::~EventProperty [0x00007FF73A505D11+710081]\n\tBaseThreadInitThunk [0x00007FF8C0CB26AD+29]\n\tRtlUserThreadStart [0x00007FF8C278AA78+40]\n",
     "output_type": "error",
     "traceback": [
      "\u001b[1;31m---------------------------------------------------------------------------\u001b[0m",
      "\u001b[1;31mNoSuchElementException\u001b[0m                    Traceback (most recent call last)",
      "Cell \u001b[1;32mIn[55], line 12\u001b[0m\n\u001b[0;32m      8\u001b[0m flights_only\u001b[38;5;241m.\u001b[39mclick()\n\u001b[0;32m     10\u001b[0m ticket_chooser(return_ticket)\n\u001b[1;32m---> 12\u001b[0m \u001b[43mdep_country_chooser\u001b[49m\u001b[43m(\u001b[49m\u001b[38;5;124;43m'\u001b[39;49m\u001b[38;5;124;43mCairo\u001b[39;49m\u001b[38;5;124;43m'\u001b[39;49m\u001b[43m)\u001b[49m\n\u001b[0;32m     14\u001b[0m arrival_country_chooser(\u001b[38;5;124m'\u001b[39m\u001b[38;5;124mNew york\u001b[39m\u001b[38;5;124m'\u001b[39m)\n\u001b[0;32m     16\u001b[0m dep_date_chooser(\u001b[38;5;124m'\u001b[39m\u001b[38;5;124m04\u001b[39m\u001b[38;5;124m'\u001b[39m, \u001b[38;5;124m'\u001b[39m\u001b[38;5;124m01\u001b[39m\u001b[38;5;124m'\u001b[39m, \u001b[38;5;124m'\u001b[39m\u001b[38;5;124m2019\u001b[39m\u001b[38;5;124m'\u001b[39m)\n",
      "Cell \u001b[1;32mIn[50], line 2\u001b[0m, in \u001b[0;36mdep_country_chooser\u001b[1;34m(dep_country)\u001b[0m\n\u001b[0;32m      1\u001b[0m \u001b[38;5;28;01mdef\u001b[39;00m \u001b[38;5;21mdep_country_chooser\u001b[39m(dep_country):\n\u001b[1;32m----> 2\u001b[0m     fly_from \u001b[38;5;241m=\u001b[39m \u001b[43mbrowser\u001b[49m\u001b[38;5;241;43m.\u001b[39;49m\u001b[43mfind_element\u001b[49m\u001b[43m(\u001b[49m\u001b[43mBy\u001b[49m\u001b[38;5;241;43m.\u001b[39;49m\u001b[43mXPATH\u001b[49m\u001b[43m \u001b[49m\u001b[43m,\u001b[49m\u001b[43m \u001b[49m\u001b[43mvalue\u001b[49m\u001b[38;5;241;43m=\u001b[39;49m\u001b[38;5;124;43m'\u001b[39;49m\u001b[38;5;124;43m/html/body/div[1]/div[1]/div/div[2]/div[2]/div[1]/div[1]/div/form/div/div/div[1]/div/div[1]/div/div/div/div/div/div[1]/button\u001b[39;49m\u001b[38;5;124;43m'\u001b[39;49m\u001b[43m)\u001b[49m\n\u001b[0;32m      3\u001b[0m     time\u001b[38;5;241m.\u001b[39msleep(\u001b[38;5;241m1\u001b[39m)\n\u001b[0;32m      4\u001b[0m     fly_from\u001b[38;5;241m.\u001b[39mclear()\n",
      "File \u001b[1;32mC:\\Program Files\\Python311\\Lib\\site-packages\\selenium\\webdriver\\remote\\webdriver.py:740\u001b[0m, in \u001b[0;36mWebDriver.find_element\u001b[1;34m(self, by, value)\u001b[0m\n\u001b[0;32m    737\u001b[0m     by \u001b[38;5;241m=\u001b[39m By\u001b[38;5;241m.\u001b[39mCSS_SELECTOR\n\u001b[0;32m    738\u001b[0m     value \u001b[38;5;241m=\u001b[39m \u001b[38;5;124mf\u001b[39m\u001b[38;5;124m'\u001b[39m\u001b[38;5;124m[name=\u001b[39m\u001b[38;5;124m\"\u001b[39m\u001b[38;5;132;01m{\u001b[39;00mvalue\u001b[38;5;132;01m}\u001b[39;00m\u001b[38;5;124m\"\u001b[39m\u001b[38;5;124m]\u001b[39m\u001b[38;5;124m'\u001b[39m\n\u001b[1;32m--> 740\u001b[0m \u001b[38;5;28;01mreturn\u001b[39;00m \u001b[38;5;28;43mself\u001b[39;49m\u001b[38;5;241;43m.\u001b[39;49m\u001b[43mexecute\u001b[49m\u001b[43m(\u001b[49m\u001b[43mCommand\u001b[49m\u001b[38;5;241;43m.\u001b[39;49m\u001b[43mFIND_ELEMENT\u001b[49m\u001b[43m,\u001b[49m\u001b[43m \u001b[49m\u001b[43m{\u001b[49m\u001b[38;5;124;43m\"\u001b[39;49m\u001b[38;5;124;43musing\u001b[39;49m\u001b[38;5;124;43m\"\u001b[39;49m\u001b[43m:\u001b[49m\u001b[43m \u001b[49m\u001b[43mby\u001b[49m\u001b[43m,\u001b[49m\u001b[43m \u001b[49m\u001b[38;5;124;43m\"\u001b[39;49m\u001b[38;5;124;43mvalue\u001b[39;49m\u001b[38;5;124;43m\"\u001b[39;49m\u001b[43m:\u001b[49m\u001b[43m \u001b[49m\u001b[43mvalue\u001b[49m\u001b[43m}\u001b[49m\u001b[43m)\u001b[49m[\u001b[38;5;124m\"\u001b[39m\u001b[38;5;124mvalue\u001b[39m\u001b[38;5;124m\"\u001b[39m]\n",
      "File \u001b[1;32mC:\\Program Files\\Python311\\Lib\\site-packages\\selenium\\webdriver\\remote\\webdriver.py:346\u001b[0m, in \u001b[0;36mWebDriver.execute\u001b[1;34m(self, driver_command, params)\u001b[0m\n\u001b[0;32m    344\u001b[0m response \u001b[38;5;241m=\u001b[39m \u001b[38;5;28mself\u001b[39m\u001b[38;5;241m.\u001b[39mcommand_executor\u001b[38;5;241m.\u001b[39mexecute(driver_command, params)\n\u001b[0;32m    345\u001b[0m \u001b[38;5;28;01mif\u001b[39;00m response:\n\u001b[1;32m--> 346\u001b[0m     \u001b[38;5;28;43mself\u001b[39;49m\u001b[38;5;241;43m.\u001b[39;49m\u001b[43merror_handler\u001b[49m\u001b[38;5;241;43m.\u001b[39;49m\u001b[43mcheck_response\u001b[49m\u001b[43m(\u001b[49m\u001b[43mresponse\u001b[49m\u001b[43m)\u001b[49m\n\u001b[0;32m    347\u001b[0m     response[\u001b[38;5;124m\"\u001b[39m\u001b[38;5;124mvalue\u001b[39m\u001b[38;5;124m\"\u001b[39m] \u001b[38;5;241m=\u001b[39m \u001b[38;5;28mself\u001b[39m\u001b[38;5;241m.\u001b[39m_unwrap_value(response\u001b[38;5;241m.\u001b[39mget(\u001b[38;5;124m\"\u001b[39m\u001b[38;5;124mvalue\u001b[39m\u001b[38;5;124m\"\u001b[39m, \u001b[38;5;28;01mNone\u001b[39;00m))\n\u001b[0;32m    348\u001b[0m     \u001b[38;5;28;01mreturn\u001b[39;00m response\n",
      "File \u001b[1;32mC:\\Program Files\\Python311\\Lib\\site-packages\\selenium\\webdriver\\remote\\errorhandler.py:245\u001b[0m, in \u001b[0;36mErrorHandler.check_response\u001b[1;34m(self, response)\u001b[0m\n\u001b[0;32m    243\u001b[0m         alert_text \u001b[38;5;241m=\u001b[39m value[\u001b[38;5;124m\"\u001b[39m\u001b[38;5;124malert\u001b[39m\u001b[38;5;124m\"\u001b[39m]\u001b[38;5;241m.\u001b[39mget(\u001b[38;5;124m\"\u001b[39m\u001b[38;5;124mtext\u001b[39m\u001b[38;5;124m\"\u001b[39m)\n\u001b[0;32m    244\u001b[0m     \u001b[38;5;28;01mraise\u001b[39;00m exception_class(message, screen, stacktrace, alert_text)  \u001b[38;5;66;03m# type: ignore[call-arg]  # mypy is not smart enough here\u001b[39;00m\n\u001b[1;32m--> 245\u001b[0m \u001b[38;5;28;01mraise\u001b[39;00m exception_class(message, screen, stacktrace)\n",
      "\u001b[1;31mNoSuchElementException\u001b[0m: Message: no such element: Unable to locate element: {\"method\":\"xpath\",\"selector\":\"/html/body/div[1]/div[1]/div/div[2]/div[2]/div[1]/div[1]/div/form/div/div/div[1]/div/div[1]/div/div/div/div/div/div[1]/button\"}\n  (Session info: MicrosoftEdge=116.0.1938.43); For documentation on this error, please visit: https://www.selenium.dev/documentation/webdriver/troubleshooting/errors#no-such-element-exception\nStacktrace:\n\tGetHandleVerifier [0x00007FF73A57B262+61986]\n\tMicrosoft::Applications::Events::EventProperty::~EventProperty [0x00007FF73A50C8D2+737666]\n\t(No symbol) [0x00007FF73A2EB86E]\n\t(No symbol) [0x00007FF73A333216]\n\t(No symbol) [0x00007FF73A333327]\n\t(No symbol) [0x00007FF73A36FBF7]\n\t(No symbol) [0x00007FF73A35386F]\n\t(No symbol) [0x00007FF73A326F61]\n\t(No symbol) [0x00007FF73A36CD41]\n\t(No symbol) [0x00007FF73A353603]\n\t(No symbol) [0x00007FF73A325DEA]\n\t(No symbol) [0x00007FF73A3250CB]\n\t(No symbol) [0x00007FF73A326574]\n\tMicrosoft::Applications::Events::ILogManager::DispatchEventBroadcast [0x00007FF73A748719+1225449]\n\t(No symbol) [0x00007FF73A3A4804]\n\tMicrosoft::Applications::Events::EventProperty::~EventProperty [0x00007FF73A460141+31217]\n\tMicrosoft::Applications::Events::EventProperty::~EventProperty [0x00007FF73A458D19+1481]\n\tMicrosoft::Applications::Events::ILogManager::DispatchEventBroadcast [0x00007FF73A7472F4+1220292]\n\tMicrosoft::Applications::Events::ILogConfiguration::operator* [0x00007FF73A515898+21048]\n\tMicrosoft::Applications::Events::ILogConfiguration::operator* [0x00007FF73A511864+4612]\n\tMicrosoft::Applications::Events::ILogConfiguration::operator* [0x00007FF73A511996+4918]\n\tMicrosoft::Applications::Events::EventProperty::~EventProperty [0x00007FF73A505D11+710081]\n\tBaseThreadInitThunk [0x00007FF8C0CB26AD+29]\n\tRtlUserThreadStart [0x00007FF8C278AA78+40]\n"
     ]
    }
   ],
   "source": [
    "for i in range(8):    \n",
    "    link = 'https://www.expedia.com/'\n",
    "    browser.get(link)\n",
    "    time.sleep(5)\n",
    "\n",
    "    #choose flights only\n",
    "    flights_only = browser.find_element(By.XPATH , value= '//*[@id=\"multi-product-search-form-1\"]/div/div/div[1]/ul/li[2]/a')\n",
    "    flights_only.click()\n",
    "\n",
    "    ticket_chooser(return_ticket)\n",
    "\n",
    "    dep_country_chooser('Cairo')\n",
    "\n",
    "    arrival_country_chooser('New york')\n",
    "\n",
    "    dep_date_chooser('04', '01', '2019')\n",
    "\n",
    "    return_date_chooser('05', '02', '2019')\n",
    "\n",
    "    search()\n",
    "\n",
    "    compile_data()\n",
    "\n",
    "    #save values for email\n",
    "    current_values = df.iloc[0]\n",
    "\n",
    "    cheapest_dep_time = current_values[0]\n",
    "    cheapest_arrival_time = current_values[1]\n",
    "    cheapest_airline = current_values[2]\n",
    "    cheapest_duration = current_values[3]\n",
    "    cheapest_stops = current_values[4]\n",
    "    cheapest_price = current_values[-1]\n",
    "\n",
    "\n",
    "    print('run {} completed!'.format(i))\n",
    "\n",
    "    create_msg()\n",
    "    connect_mail(username,password)\n",
    "    send_email(msg)\n",
    "    print('Email sent!')\n",
    "\n",
    "    df.to_excel('flights.xlsx')\n",
    "\n",
    "    time.sleep(3600)"
   ]
  },
  {
   "cell_type": "code",
   "execution_count": 67,
   "id": "d59af5b1",
   "metadata": {},
   "outputs": [
    {
     "ename": "NoSuchElementException",
     "evalue": "Message: no such element: Unable to locate element: {\"method\":\"xpath\",\"selector\":\"//*[@id=\"multi-product-search-form-1\"]/div/div[1]/ul/li[2]/a\"}\n  (Session info: MicrosoftEdge=116.0.1938.43); For documentation on this error, please visit: https://www.selenium.dev/documentation/webdriver/troubleshooting/errors#no-such-element-exception\nStacktrace:\n\tGetHandleVerifier [0x00007FF73A57B262+61986]\n\tMicrosoft::Applications::Events::EventProperty::~EventProperty [0x00007FF73A50C8D2+737666]\n\t(No symbol) [0x00007FF73A2EB86E]\n\t(No symbol) [0x00007FF73A333216]\n\t(No symbol) [0x00007FF73A333327]\n\t(No symbol) [0x00007FF73A36FBF7]\n\t(No symbol) [0x00007FF73A35386F]\n\t(No symbol) [0x00007FF73A326F61]\n\t(No symbol) [0x00007FF73A36CD41]\n\t(No symbol) [0x00007FF73A353603]\n\t(No symbol) [0x00007FF73A325DEA]\n\t(No symbol) [0x00007FF73A3250CB]\n\t(No symbol) [0x00007FF73A326574]\n\tMicrosoft::Applications::Events::ILogManager::DispatchEventBroadcast [0x00007FF73A748719+1225449]\n\t(No symbol) [0x00007FF73A3A4804]\n\tMicrosoft::Applications::Events::EventProperty::~EventProperty [0x00007FF73A460141+31217]\n\tMicrosoft::Applications::Events::EventProperty::~EventProperty [0x00007FF73A458D19+1481]\n\tMicrosoft::Applications::Events::ILogManager::DispatchEventBroadcast [0x00007FF73A7472F4+1220292]\n\tMicrosoft::Applications::Events::ILogConfiguration::operator* [0x00007FF73A515898+21048]\n\tMicrosoft::Applications::Events::ILogConfiguration::operator* [0x00007FF73A511864+4612]\n\tMicrosoft::Applications::Events::ILogConfiguration::operator* [0x00007FF73A511996+4918]\n\tMicrosoft::Applications::Events::EventProperty::~EventProperty [0x00007FF73A505D11+710081]\n\tBaseThreadInitThunk [0x00007FF8C0CB26AD+29]\n\tRtlUserThreadStart [0x00007FF8C278AA78+40]\n",
     "output_type": "error",
     "traceback": [
      "\u001b[1;31m---------------------------------------------------------------------------\u001b[0m",
      "\u001b[1;31mNoSuchElementException\u001b[0m                    Traceback (most recent call last)",
      "Cell \u001b[1;32mIn[67], line 4\u001b[0m\n\u001b[0;32m      2\u001b[0m browser\u001b[38;5;241m.\u001b[39mget(link)\n\u001b[0;32m      3\u001b[0m time\u001b[38;5;241m.\u001b[39msleep(\u001b[38;5;241m5\u001b[39m)\n\u001b[1;32m----> 4\u001b[0m flights_only \u001b[38;5;241m=\u001b[39m \u001b[43mbrowser\u001b[49m\u001b[38;5;241;43m.\u001b[39;49m\u001b[43mfind_element\u001b[49m\u001b[43m(\u001b[49m\u001b[43mBy\u001b[49m\u001b[38;5;241;43m.\u001b[39;49m\u001b[43mXPATH\u001b[49m\u001b[43m,\u001b[49m\u001b[43m \u001b[49m\u001b[43mvalue\u001b[49m\u001b[38;5;241;43m=\u001b[39;49m\u001b[43m \u001b[49m\u001b[38;5;124;43m'\u001b[39;49m\u001b[38;5;124;43m//*[@id=\u001b[39;49m\u001b[38;5;124;43m\"\u001b[39;49m\u001b[38;5;124;43mmulti-product-search-form-1\u001b[39;49m\u001b[38;5;124;43m\"\u001b[39;49m\u001b[38;5;124;43m]/div/div[1]/ul/li[2]/a\u001b[39;49m\u001b[38;5;124;43m'\u001b[39;49m\u001b[43m)\u001b[49m\n\u001b[0;32m      5\u001b[0m flights_only\u001b[38;5;241m.\u001b[39mclick()\n\u001b[0;32m      6\u001b[0m depar \u001b[38;5;241m=\u001b[39m browser\u001b[38;5;241m.\u001b[39mfind_element(By\u001b[38;5;241m.\u001b[39mXPATH, value \u001b[38;5;241m=\u001b[39m \u001b[38;5;124m\"\u001b[39m\u001b[38;5;124m/html/body/div[1]/div[1]/div/div[2]/div[2]/div[1]/div[1]/div/form/div/div/div[1]/div/div[1]/div/div/div/div/div/div[1]/button\u001b[39m\u001b[38;5;124m\"\u001b[39m)\n",
      "File \u001b[1;32mC:\\Program Files\\Python311\\Lib\\site-packages\\selenium\\webdriver\\remote\\webdriver.py:740\u001b[0m, in \u001b[0;36mWebDriver.find_element\u001b[1;34m(self, by, value)\u001b[0m\n\u001b[0;32m    737\u001b[0m     by \u001b[38;5;241m=\u001b[39m By\u001b[38;5;241m.\u001b[39mCSS_SELECTOR\n\u001b[0;32m    738\u001b[0m     value \u001b[38;5;241m=\u001b[39m \u001b[38;5;124mf\u001b[39m\u001b[38;5;124m'\u001b[39m\u001b[38;5;124m[name=\u001b[39m\u001b[38;5;124m\"\u001b[39m\u001b[38;5;132;01m{\u001b[39;00mvalue\u001b[38;5;132;01m}\u001b[39;00m\u001b[38;5;124m\"\u001b[39m\u001b[38;5;124m]\u001b[39m\u001b[38;5;124m'\u001b[39m\n\u001b[1;32m--> 740\u001b[0m \u001b[38;5;28;01mreturn\u001b[39;00m \u001b[38;5;28;43mself\u001b[39;49m\u001b[38;5;241;43m.\u001b[39;49m\u001b[43mexecute\u001b[49m\u001b[43m(\u001b[49m\u001b[43mCommand\u001b[49m\u001b[38;5;241;43m.\u001b[39;49m\u001b[43mFIND_ELEMENT\u001b[49m\u001b[43m,\u001b[49m\u001b[43m \u001b[49m\u001b[43m{\u001b[49m\u001b[38;5;124;43m\"\u001b[39;49m\u001b[38;5;124;43musing\u001b[39;49m\u001b[38;5;124;43m\"\u001b[39;49m\u001b[43m:\u001b[49m\u001b[43m \u001b[49m\u001b[43mby\u001b[49m\u001b[43m,\u001b[49m\u001b[43m \u001b[49m\u001b[38;5;124;43m\"\u001b[39;49m\u001b[38;5;124;43mvalue\u001b[39;49m\u001b[38;5;124;43m\"\u001b[39;49m\u001b[43m:\u001b[49m\u001b[43m \u001b[49m\u001b[43mvalue\u001b[49m\u001b[43m}\u001b[49m\u001b[43m)\u001b[49m[\u001b[38;5;124m\"\u001b[39m\u001b[38;5;124mvalue\u001b[39m\u001b[38;5;124m\"\u001b[39m]\n",
      "File \u001b[1;32mC:\\Program Files\\Python311\\Lib\\site-packages\\selenium\\webdriver\\remote\\webdriver.py:346\u001b[0m, in \u001b[0;36mWebDriver.execute\u001b[1;34m(self, driver_command, params)\u001b[0m\n\u001b[0;32m    344\u001b[0m response \u001b[38;5;241m=\u001b[39m \u001b[38;5;28mself\u001b[39m\u001b[38;5;241m.\u001b[39mcommand_executor\u001b[38;5;241m.\u001b[39mexecute(driver_command, params)\n\u001b[0;32m    345\u001b[0m \u001b[38;5;28;01mif\u001b[39;00m response:\n\u001b[1;32m--> 346\u001b[0m     \u001b[38;5;28;43mself\u001b[39;49m\u001b[38;5;241;43m.\u001b[39;49m\u001b[43merror_handler\u001b[49m\u001b[38;5;241;43m.\u001b[39;49m\u001b[43mcheck_response\u001b[49m\u001b[43m(\u001b[49m\u001b[43mresponse\u001b[49m\u001b[43m)\u001b[49m\n\u001b[0;32m    347\u001b[0m     response[\u001b[38;5;124m\"\u001b[39m\u001b[38;5;124mvalue\u001b[39m\u001b[38;5;124m\"\u001b[39m] \u001b[38;5;241m=\u001b[39m \u001b[38;5;28mself\u001b[39m\u001b[38;5;241m.\u001b[39m_unwrap_value(response\u001b[38;5;241m.\u001b[39mget(\u001b[38;5;124m\"\u001b[39m\u001b[38;5;124mvalue\u001b[39m\u001b[38;5;124m\"\u001b[39m, \u001b[38;5;28;01mNone\u001b[39;00m))\n\u001b[0;32m    348\u001b[0m     \u001b[38;5;28;01mreturn\u001b[39;00m response\n",
      "File \u001b[1;32mC:\\Program Files\\Python311\\Lib\\site-packages\\selenium\\webdriver\\remote\\errorhandler.py:245\u001b[0m, in \u001b[0;36mErrorHandler.check_response\u001b[1;34m(self, response)\u001b[0m\n\u001b[0;32m    243\u001b[0m         alert_text \u001b[38;5;241m=\u001b[39m value[\u001b[38;5;124m\"\u001b[39m\u001b[38;5;124malert\u001b[39m\u001b[38;5;124m\"\u001b[39m]\u001b[38;5;241m.\u001b[39mget(\u001b[38;5;124m\"\u001b[39m\u001b[38;5;124mtext\u001b[39m\u001b[38;5;124m\"\u001b[39m)\n\u001b[0;32m    244\u001b[0m     \u001b[38;5;28;01mraise\u001b[39;00m exception_class(message, screen, stacktrace, alert_text)  \u001b[38;5;66;03m# type: ignore[call-arg]  # mypy is not smart enough here\u001b[39;00m\n\u001b[1;32m--> 245\u001b[0m \u001b[38;5;28;01mraise\u001b[39;00m exception_class(message, screen, stacktrace)\n",
      "\u001b[1;31mNoSuchElementException\u001b[0m: Message: no such element: Unable to locate element: {\"method\":\"xpath\",\"selector\":\"//*[@id=\"multi-product-search-form-1\"]/div/div[1]/ul/li[2]/a\"}\n  (Session info: MicrosoftEdge=116.0.1938.43); For documentation on this error, please visit: https://www.selenium.dev/documentation/webdriver/troubleshooting/errors#no-such-element-exception\nStacktrace:\n\tGetHandleVerifier [0x00007FF73A57B262+61986]\n\tMicrosoft::Applications::Events::EventProperty::~EventProperty [0x00007FF73A50C8D2+737666]\n\t(No symbol) [0x00007FF73A2EB86E]\n\t(No symbol) [0x00007FF73A333216]\n\t(No symbol) [0x00007FF73A333327]\n\t(No symbol) [0x00007FF73A36FBF7]\n\t(No symbol) [0x00007FF73A35386F]\n\t(No symbol) [0x00007FF73A326F61]\n\t(No symbol) [0x00007FF73A36CD41]\n\t(No symbol) [0x00007FF73A353603]\n\t(No symbol) [0x00007FF73A325DEA]\n\t(No symbol) [0x00007FF73A3250CB]\n\t(No symbol) [0x00007FF73A326574]\n\tMicrosoft::Applications::Events::ILogManager::DispatchEventBroadcast [0x00007FF73A748719+1225449]\n\t(No symbol) [0x00007FF73A3A4804]\n\tMicrosoft::Applications::Events::EventProperty::~EventProperty [0x00007FF73A460141+31217]\n\tMicrosoft::Applications::Events::EventProperty::~EventProperty [0x00007FF73A458D19+1481]\n\tMicrosoft::Applications::Events::ILogManager::DispatchEventBroadcast [0x00007FF73A7472F4+1220292]\n\tMicrosoft::Applications::Events::ILogConfiguration::operator* [0x00007FF73A515898+21048]\n\tMicrosoft::Applications::Events::ILogConfiguration::operator* [0x00007FF73A511864+4612]\n\tMicrosoft::Applications::Events::ILogConfiguration::operator* [0x00007FF73A511996+4918]\n\tMicrosoft::Applications::Events::EventProperty::~EventProperty [0x00007FF73A505D11+710081]\n\tBaseThreadInitThunk [0x00007FF8C0CB26AD+29]\n\tRtlUserThreadStart [0x00007FF8C278AA78+40]\n"
     ]
    }
   ],
   "source": [
    "link = 'https://www.expedia.com/'\n",
    "browser.get(link)\n",
    "time.sleep(5)\n",
    "flights_only = browser.find_element(By.XPATH, value= '//*[@id=\"multi-product-search-form-1\"]/div/div[1]/ul/li[2]/a')\n",
    "flights_only.click()\n",
    "depar = browser.find_element(By.XPATH, value = \"/html/body/div[1]/div[1]/div/div[2]/div[2]/div[1]/div[1]/div/form/div/div/div[1]/div/div[1]/div/div/div/div/div/div[1]/button\")\n",
    "depar.click()"
   ]
  }
 ],
 "metadata": {
  "kernelspec": {
   "display_name": "Python 3 (ipykernel)",
   "language": "python",
   "name": "python3"
  },
  "language_info": {
   "codemirror_mode": {
    "name": "ipython",
    "version": 3
   },
   "file_extension": ".py",
   "mimetype": "text/x-python",
   "name": "python",
   "nbconvert_exporter": "python",
   "pygments_lexer": "ipython3",
   "version": "3.11.3"
  }
 },
 "nbformat": 4,
 "nbformat_minor": 5
}
